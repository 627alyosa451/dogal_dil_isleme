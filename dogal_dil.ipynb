{
  "nbformat": 4,
  "nbformat_minor": 0,
  "metadata": {
    "colab": {
      "provenance": [],
      "authorship_tag": "ABX9TyNXABhbRTC/yn8HDVcFN/gD",
      "include_colab_link": true
    },
    "kernelspec": {
      "name": "python3",
      "display_name": "Python 3"
    },
    "language_info": {
      "name": "python"
    }
  },
  "cells": [
    {
      "cell_type": "markdown",
      "metadata": {
        "id": "view-in-github",
        "colab_type": "text"
      },
      "source": [
        "<a href=\"https://colab.research.google.com/github/627alyosa451/dogal_dil_isleme/blob/main/dogal_dil.ipynb\" target=\"_parent\"><img src=\"https://colab.research.google.com/assets/colab-badge.svg\" alt=\"Open In Colab\"/></a>"
      ]
    },
    {
      "cell_type": "code",
      "source": [
        "\n",
        "kullanici = input(\"bir cümle giriniz \")\n",
        "liste = kullanici.split(\" \")\n",
        "print(liste)\n",
        "\n",
        "\n",
        "def kontrol(txt,dil):\n",
        "  skor = 0\n",
        "\n",
        "  dil = len(liste)\n",
        "  with open(txt, 'r', encoding='latin-1') as f:\n",
        "    kelimeler = f.read().splitlines()\n",
        "\n",
        "  for kelime in liste:\n",
        "    if kelime in kelimeler:\n",
        "      skor += 1\n",
        "  return skor\n",
        "\n",
        "\n",
        "def siralama():\n",
        "  skorlar = [tr,en,it,fr,sp]\n",
        "  print(skorlar)\n",
        "  if tr > en and tr > it and tr > fr and tr > sp:\n",
        "    print(\"türkçe\")\n",
        "  elif en > tr and en > it and en > fr and en > sp:\n",
        "    print(\"İngilizce\")\n",
        "  elif it > tr and it > en and it > fr and it > sp:\n",
        "    print(\"İtalyanca\")\n",
        "  elif fr > tr and fr > en and fr > it and fr > sp:\n",
        "    print(\"Fransızca\")\n",
        "  else:\n",
        "    print(\"İspanyolca\")\n",
        "\n",
        "\n",
        "tr =kontrol(\"turkce.txt\" , \"Türkçe\")\n",
        "en =kontrol(\"english.txt\", \"İngilizce\")\n",
        "it =kontrol(\"italian.txt\", \"İtalyanca\")\n",
        "fr =kontrol(\"french.txt\", \"Fransızca\")\n",
        "sp =kontrol(\"spanish.txt\", \"İspanyolca\")\n",
        "\n",
        "siralama()"
      ],
      "metadata": {
        "colab": {
          "base_uri": "https://localhost:8080/"
        },
        "collapsed": true,
        "id": "VRAK2zq-lw8O",
        "outputId": "d2d8e326-15ef-46bf-b12a-13f207c44991"
      },
      "execution_count": 6,
      "outputs": [
        {
          "output_type": "stream",
          "name": "stdout",
          "text": [
            "bir cümle giriniz Les œuvres les plus esthétiques du monde sont ici\n",
            "['Les', 'œuvres', 'les', 'plus', 'esthétiques', 'du', 'monde', 'sont', 'ici']\n",
            "[0, 3, 0, 6, 3]\n",
            "Fransızca\n"
          ]
        }
      ]
    }
  ]
}