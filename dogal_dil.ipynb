{
  "nbformat": 4,
  "nbformat_minor": 0,
  "metadata": {
    "colab": {
      "provenance": [],
      "authorship_tag": "ABX9TyOCnZxyEvDWCk7CPvk8FdgY",
      "include_colab_link": true
    },
    "kernelspec": {
      "name": "python3",
      "display_name": "Python 3"
    },
    "language_info": {
      "name": "python"
    }
  },
  "cells": [
    {
      "cell_type": "markdown",
      "metadata": {
        "id": "view-in-github",
        "colab_type": "text"
      },
      "source": [
        "<a href=\"https://colab.research.google.com/github/627alyosa451/dogal_dil_isleme/blob/main/dogal_dil.ipynb\" target=\"_parent\"><img src=\"https://colab.research.google.com/assets/colab-badge.svg\" alt=\"Open In Colab\"/></a>"
      ]
    },
    {
      "cell_type": "code",
      "source": [
        "\n",
        "kullanici = (input(\"bir cümle giriniz (cümledeki kelime sayısı arttıkça doğruluk ihtimali artacaktır) \")).lower()\n",
        "liste = kullanici.split(\" \") # kullanıcıdan gelen cümleyi listeye alıyor\n",
        "print(liste)\n",
        "\n",
        "\n",
        "def kontrol(txt,kodlama): #txt = kelimeyi aratacağı text dosyası. kodlama = karakter kodlama seçeneği\n",
        "  skor = 0\n",
        "\n",
        "  with open(txt, 'r', encoding= kodlama) as f:\n",
        "    kelimeler = f.read().split()\n",
        "\n",
        "\n",
        "  for kelime in liste:\n",
        "    if kelime in kelimeler:\n",
        "      skor += 1\n",
        "  return skor\n",
        "\n",
        "\n",
        "def siralama():\n",
        "  skorlar = [tr,en,it,fr,sp]\n",
        "  print(skorlar)\n",
        "  if tr > en and tr > it and tr > fr and tr > sp:\n",
        "    print(\"Türkçe\")\n",
        "  elif en > tr and en > it and en > fr and en > sp:\n",
        "    print(\"İngilizce\")\n",
        "  elif it > tr and it > en and it > fr and it > sp:\n",
        "    print(\"İtalyanca\")\n",
        "  elif fr > tr and fr > en and fr > it and fr > sp:\n",
        "    print(\"Fransızca\")\n",
        "  else:\n",
        "    print(\"İspanyolca\")\n",
        "\n",
        "\n",
        "tr =kontrol(\"turkce.txt\", \"utf-8\")\n",
        "en =kontrol(\"english.txt\", \"utf-8\")\n",
        "it =kontrol(\"italian.txt\", \"latin1\")\n",
        "fr =kontrol(\"french.txt\", \"utf-8\")\n",
        "sp =kontrol(\"spanish.txt\", \"utf-8\")\n",
        "\n",
        "siralama()\n",
        "\n",
        "#programın zayıf yönleri\n",
        "# noktalama işaretleri\n",
        "# ek alan bazı kelimeler\n",
        "# yazım hataları\n",
        "# kısa cümlelerde tespit zorluğu"
      ],
      "metadata": {
        "colab": {
          "base_uri": "https://localhost:8080/"
        },
        "collapsed": true,
        "id": "VRAK2zq-lw8O",
        "outputId": "5a977a0c-2d5b-4c74-b155-5a3dfce2022e"
      },
      "execution_count": 24,
      "outputs": [
        {
          "output_type": "stream",
          "name": "stdout",
          "text": [
            "bir cümle giriniz (cümledeki kelime sayısı arttıkça doğruluk ihtimali artacaktır) şu an bazı metinleri daha iyi anlıyor olabilmen lazım öyle mi\n",
            "['şu', 'an', 'bazı', 'metinleri', 'daha', 'iyi', 'anlıyor', 'olabilmen', 'lazım', 'öyle', 'mi']\n",
            "[8, 1, 1, 2, 1]\n",
            "Türkçe\n"
          ]
        }
      ]
    }
  ]
}