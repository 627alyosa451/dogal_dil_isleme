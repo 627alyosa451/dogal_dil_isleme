{
  "nbformat": 4,
  "nbformat_minor": 0,
  "metadata": {
    "colab": {
      "provenance": [],
      "authorship_tag": "ABX9TyOsqvOurRkmvSvYi/uEplpm",
      "include_colab_link": true
    },
    "kernelspec": {
      "name": "python3",
      "display_name": "Python 3"
    },
    "language_info": {
      "name": "python"
    }
  },
  "cells": [
    {
      "cell_type": "markdown",
      "metadata": {
        "id": "view-in-github",
        "colab_type": "text"
      },
      "source": [
        "<a href=\"https://colab.research.google.com/github/627alyosa451/dogal_dil_isleme/blob/main/dogal_dil.ipynb\" target=\"_parent\"><img src=\"https://colab.research.google.com/assets/colab-badge.svg\" alt=\"Open In Colab\"/></a>"
      ]
    },
    {
      "cell_type": "code",
      "source": [
        "\n",
        "kullanici = input(\"bir cümle giriniz \")\n",
        "liste = kullanici.split(\" \")\n",
        "\n",
        "\n",
        "def kontrol(txt,dil):\n",
        "  skor = 0\n",
        "\n",
        "  dil = len(liste)\n",
        "  with open(txt, 'r', encoding='latin-1') as f:\n",
        "    kelimeler = f.read().splitlines()\n",
        "\n",
        "  for kelime in liste:\n",
        "    if kelime in kelimeler:\n",
        "      skor += 1\n",
        "  return skor\n",
        "\n",
        "\n",
        "def siralama():\n",
        "  skorlar = [tr,en,it,fr,sp]\n",
        "  if tr > en and it and fr and sp:\n",
        "    print(\"türkçe\")\n",
        "  elif en > tr and it and fr and sp:\n",
        "    print(\"İngilizce\")\n",
        "  elif it > tr and en and fr and sp:\n",
        "    print(\"İtalyanca\")\n",
        "  elif fr > tr and en and it and sp:\n",
        "    print(\"Fransızca\")\n",
        "  else:\n",
        "    print(\"İspanyolca\")\n",
        "\n",
        "\n",
        "tr =kontrol(\"turkce.txt\" , \"Türkçe\")\n",
        "en =kontrol(\"english.txt\", \"İngilizce\")\n",
        "it =kontrol(\"italian.txt\", \"İtalyanca\")\n",
        "fr =kontrol(\"french.txt\", \"Fransızca\")\n",
        "sp =kontrol(\"spanish.txt\", \"İspanyolca\")\n",
        "\n",
        "siralama()"
      ],
      "metadata": {
        "colab": {
          "base_uri": "https://localhost:8080/"
        },
        "collapsed": true,
        "id": "VRAK2zq-lw8O",
        "outputId": "7b53b348-fd78-4139-a7e7-679b0682de34"
      },
      "execution_count": 13,
      "outputs": [
        {
          "output_type": "stream",
          "name": "stdout",
          "text": [
            "bir cümle giriniz ce texte est en espagnol moi\n",
            "Fransızca\n"
          ]
        }
      ]
    }
  ]
}