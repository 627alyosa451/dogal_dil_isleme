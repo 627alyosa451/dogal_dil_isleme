{
  "nbformat": 4,
  "nbformat_minor": 0,
  "metadata": {
    "colab": {
      "provenance": [],
      "authorship_tag": "ABX9TyMZiPTWlGL3OUZD72YJlkpM",
      "include_colab_link": true
    },
    "kernelspec": {
      "name": "python3",
      "display_name": "Python 3"
    },
    "language_info": {
      "name": "python"
    }
  },
  "cells": [
    {
      "cell_type": "markdown",
      "metadata": {
        "id": "view-in-github",
        "colab_type": "text"
      },
      "source": [
        "<a href=\"https://colab.research.google.com/github/627alyosa451/dogal_dil_isleme/blob/main/dogal_dil.ipynb\" target=\"_parent\"><img src=\"https://colab.research.google.com/assets/colab-badge.svg\" alt=\"Open In Colab\"/></a>"
      ]
    },
    {
      "cell_type": "code",
      "source": [
        "print(\"DİL TAHMİNİ\\n------------\\nSadece belirli dillerde çalışır:\\n\\nTürkçe\\nİngilizce\\nİtalyanca\\nFransızca\\nİspanyolca\\n\")\n",
        "kullanici = (input(\"bir cümle giriniz (cümledeki kelime sayısı arttıkça doğruluk ihtimali artacaktır) \\n\")).lower()\n",
        "print(\"-----------------------------\")\n",
        "liste = kullanici.split(\" \") # kullanıcıdan gelen cümleyi listeye alıyor\n",
        "#print(liste)\n",
        "\n",
        "\n",
        "def kontrol(txt,kodlama): #txt = kelimeyi aratacağı text dosyası. kodlama = karakter kodlama seçeneği\n",
        "  skor = 0\n",
        "\n",
        "  with open(txt, 'r', encoding= kodlama) as f:\n",
        "    kelimeler = f.read().split()\n",
        "\n",
        "\n",
        "  for kelime in liste:\n",
        "    if kelime in kelimeler:\n",
        "      skor += 1\n",
        "  return skor\n",
        "\n",
        "\n",
        "def siralama():\n",
        "  skorlar = [tr,en,de,fr,sp]\n",
        "  #print(skorlar)\n",
        "  if tr > en and tr > de and tr > fr and tr > sp:\n",
        "    print(\"Türkçe\")\n",
        "  elif en > tr and en > de and en > fr and en > sp:\n",
        "    print(\"İngilizce\")\n",
        "  elif de > tr and de > en and de > fr and de > sp:\n",
        "    print(\"Almanca\")\n",
        "  elif fr > tr and fr > en and fr > de and fr > sp:\n",
        "    print(\"Fransızca\")\n",
        "  else:\n",
        "    print(\"İspanyolca\")\n",
        "\n",
        "\n",
        "tr =kontrol(\"turkce.txt\", \"utf-8\")\n",
        "en =kontrol(\"english.txt\", \"utf-8\")\n",
        "de =kontrol(\"german.txt\", \"utf-8\")\n",
        "fr =kontrol(\"french.txt\", \"utf-8\")\n",
        "sp =kontrol(\"spanish.txt\", \"utf-8\")\n",
        "\n",
        "siralama()\n",
        "\n",
        "#programın zayıf yönleri\n",
        "# noktalama işaretleri\n",
        "# ek alan bazı kelimeler\n",
        "# yazım hataları\n",
        "# kısa cümlelerde tespit zorluğu\n",
        "# 5'ten fazla dil için ideal değil, hantal"
      ],
      "metadata": {
        "colab": {
          "base_uri": "https://localhost:8080/"
        },
        "id": "VRAK2zq-lw8O",
        "outputId": "268ea811-8baf-4354-be83-b5eb08907934"
      },
      "execution_count": null,
      "outputs": [
        {
          "output_type": "stream",
          "name": "stdout",
          "text": [
            "DİL TAHMİNİ\n",
            "------------\n",
            "Sadece belirli dillerde çalışır:\n",
            "\n",
            "Türkçe\n",
            "İngilizce\n",
            "İtalyanca\n",
            "Fransızca\n",
            "İspanyolca\n",
            "\n",
            "bir cümle giriniz (cümledeki kelime sayısı arttıkça doğruluk ihtimali artacaktır) \n",
            "Die ästhetischsten Werke der Welt sind hier\n",
            "-----------------------------\n",
            "Almanca\n"
          ]
        }
      ]
    }
  ]
}